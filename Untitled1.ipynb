{
 "cells": [
  {
   "cell_type": "code",
   "execution_count": 1,
   "metadata": {},
   "outputs": [],
   "source": [
    "import numpy as np\n",
    "from statsmodels.datasets import grunfeld\n",
    "data = grunfeld.load_pandas().data\n",
    "data.year = data.year.astype(np.int64)\n",
    "# MultiIndex, entity - time\n",
    "data = data.set_index(['firm','year'])\n",
    "from linearmodels import PanelOLS\n",
    "mod = PanelOLS(data.invest, data[['value','capital']], entity_effects=True)\n",
    "res = mod.fit(cov_type='clustered', cluster_entity=True)"
   ]
  },
  {
   "cell_type": "code",
   "execution_count": 2,
   "metadata": {},
   "outputs": [
    {
     "data": {
      "text/html": [
       "<table class=\"simpletable\">\n",
       "<caption>PanelOLS Estimation Summary</caption>\n",
       "<tr>\n",
       "  <th>Dep. Variable:</th>         <td>invest</td>      <th>  R-squared:         </th>    <td>0.7667</td> \n",
       "</tr>\n",
       "<tr>\n",
       "  <th>Estimator:</th>            <td>PanelOLS</td>     <th>  R-squared (Between):</th>   <td>0.8223</td> \n",
       "</tr>\n",
       "<tr>\n",
       "  <th>No. Observations:</th>        <td>220</td>       <th>  R-squared (Within):</th>    <td>0.7667</td> \n",
       "</tr>\n",
       "<tr>\n",
       "  <th>Date:</th>             <td>Sat, Dec 28 2019</td> <th>  R-squared (Overall):</th>   <td>0.8132</td> \n",
       "</tr>\n",
       "<tr>\n",
       "  <th>Time:</th>                 <td>20:26:48</td>     <th>  Log-likelihood     </th>    <td>-1167.4</td>\n",
       "</tr>\n",
       "<tr>\n",
       "  <th>Cov. Estimator:</th>       <td>Clustered</td>    <th>                     </th>       <td></td>    \n",
       "</tr>\n",
       "<tr>\n",
       "  <th></th>                          <td></td>         <th>  F-statistic:       </th>    <td>340.08</td> \n",
       "</tr>\n",
       "<tr>\n",
       "  <th>Entities:</th>                <td>11</td>        <th>  P-value            </th>    <td>0.0000</td> \n",
       "</tr>\n",
       "<tr>\n",
       "  <th>Avg Obs:</th>               <td>20.000</td>      <th>  Distribution:      </th>   <td>F(2,207)</td>\n",
       "</tr>\n",
       "<tr>\n",
       "  <th>Min Obs:</th>               <td>20.000</td>      <th>                     </th>       <td></td>    \n",
       "</tr>\n",
       "<tr>\n",
       "  <th>Max Obs:</th>               <td>20.000</td>      <th>  F-statistic (robust):</th>  <td>31.490</td> \n",
       "</tr>\n",
       "<tr>\n",
       "  <th></th>                          <td></td>         <th>  P-value            </th>    <td>0.0000</td> \n",
       "</tr>\n",
       "<tr>\n",
       "  <th>Time periods:</th>            <td>20</td>        <th>  Distribution:      </th>   <td>F(2,207)</td>\n",
       "</tr>\n",
       "<tr>\n",
       "  <th>Avg Obs:</th>               <td>11.000</td>      <th>                     </th>       <td></td>    \n",
       "</tr>\n",
       "<tr>\n",
       "  <th>Min Obs:</th>               <td>11.000</td>      <th>                     </th>       <td></td>    \n",
       "</tr>\n",
       "<tr>\n",
       "  <th>Max Obs:</th>               <td>11.000</td>      <th>                     </th>       <td></td>    \n",
       "</tr>\n",
       "<tr>\n",
       "  <th></th>                          <td></td>         <th>                     </th>       <td></td>    \n",
       "</tr>\n",
       "</table>\n",
       "<table class=\"simpletable\">\n",
       "<caption>Parameter Estimates</caption>\n",
       "<tr>\n",
       "     <td></td>     <th>Parameter</th> <th>Std. Err.</th> <th>T-stat</th> <th>P-value</th> <th>Lower CI</th> <th>Upper CI</th>\n",
       "</tr>\n",
       "<tr>\n",
       "  <th>value</th>    <td>0.1101</td>    <td>0.0144</td>   <td>7.6453</td> <td>0.0000</td>   <td>0.0817</td>   <td>0.1385</td> \n",
       "</tr>\n",
       "<tr>\n",
       "  <th>capital</th>  <td>0.3100</td>    <td>0.0500</td>   <td>6.1970</td> <td>0.0000</td>   <td>0.2114</td>   <td>0.4087</td> \n",
       "</tr>\n",
       "</table><br/><br/>F-test for Poolability: 49.207<br/>P-value: 0.0000<br/>Distribution: F(10,207)<br/><br/>Included effects: Entity<br/>id: 0x24cd8e815c8"
      ],
      "text/plain": [
       "                          PanelOLS Estimation Summary                           \n",
       "================================================================================\n",
       "Dep. Variable:                 invest   R-squared:                        0.7667\n",
       "Estimator:                   PanelOLS   R-squared (Between):              0.8223\n",
       "No. Observations:                 220   R-squared (Within):               0.7667\n",
       "Date:                Sat, Dec 28 2019   R-squared (Overall):              0.8132\n",
       "Time:                        20:26:48   Log-likelihood                   -1167.4\n",
       "Cov. Estimator:             Clustered                                           \n",
       "                                        F-statistic:                      340.08\n",
       "Entities:                          11   P-value                           0.0000\n",
       "Avg Obs:                       20.000   Distribution:                   F(2,207)\n",
       "Min Obs:                       20.000                                           \n",
       "Max Obs:                       20.000   F-statistic (robust):             31.490\n",
       "                                        P-value                           0.0000\n",
       "Time periods:                      20   Distribution:                   F(2,207)\n",
       "Avg Obs:                       11.000                                           \n",
       "Min Obs:                       11.000                                           \n",
       "Max Obs:                       11.000                                           \n",
       "                                                                                \n",
       "                             Parameter Estimates                              \n",
       "==============================================================================\n",
       "            Parameter  Std. Err.     T-stat    P-value    Lower CI    Upper CI\n",
       "------------------------------------------------------------------------------\n",
       "value          0.1101     0.0144     7.6453     0.0000      0.0817      0.1385\n",
       "capital        0.3100     0.0500     6.1970     0.0000      0.2114      0.4087\n",
       "==============================================================================\n",
       "\n",
       "F-test for Poolability: 49.207\n",
       "P-value: 0.0000\n",
       "Distribution: F(10,207)\n",
       "\n",
       "Included effects: Entity\n",
       "PanelEffectsResults, id: 0x24cd8e815c8"
      ]
     },
     "execution_count": 2,
     "metadata": {},
     "output_type": "execute_result"
    }
   ],
   "source": [
    "res"
   ]
  },
  {
   "cell_type": "code",
   "execution_count": null,
   "metadata": {},
   "outputs": [],
   "source": []
  }
 ],
 "metadata": {
  "kernelspec": {
   "display_name": "Python 3",
   "language": "python",
   "name": "python3"
  },
  "language_info": {
   "codemirror_mode": {
    "name": "ipython",
    "version": 3
   },
   "file_extension": ".py",
   "mimetype": "text/x-python",
   "name": "python",
   "nbconvert_exporter": "python",
   "pygments_lexer": "ipython3",
   "version": "3.7.4"
  }
 },
 "nbformat": 4,
 "nbformat_minor": 2
}
